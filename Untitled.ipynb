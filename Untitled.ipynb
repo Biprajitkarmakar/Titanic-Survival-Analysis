{
 "cells": [
  {
   "cell_type": "markdown",
   "id": "75c8a4d6-4e0b-44f0-af2e-7bd20d7407f3",
   "metadata": {},
   "source": [
    "# 🛳 Titanic Survival Dataset Analysis"
   ]
  },
  {
   "cell_type": "markdown",
   "id": "f9ef08e4-1696-41d0-912b-07b9ddafe034",
   "metadata": {},
   "source": [
    "### 🔹 Step 1: Load Dataset\n",
    "\n",
    "#### We load the Titanic dataset using pandas.\n",
    "#### We also inspect its shape (rows × columns) and first few rows."
   ]
  },
  {
   "cell_type": "code",
   "execution_count": 1,
   "id": "f2f4ebbb-095e-4d79-818f-b90854d54f0c",
   "metadata": {},
   "outputs": [],
   "source": [
    "import pandas as pd\n",
    "df = pd.read_csv(\"Titanic-dataset.csv\")"
   ]
  },
  {
   "cell_type": "code",
   "execution_count": 2,
   "id": "4014f10d-3845-410f-8e84-8bc69b55d5b1",
   "metadata": {},
   "outputs": [
    {
     "data": {
      "text/plain": [
       "(891, 12)"
      ]
     },
     "execution_count": 2,
     "metadata": {},
     "output_type": "execute_result"
    }
   ],
   "source": [
    "df.shape"
   ]
  },
  {
   "cell_type": "markdown",
   "id": "b41ccce1-b39e-4ce5-a9d9-1fd071540970",
   "metadata": {},
   "source": [
    "### 🔹 Step 2: Explore & Clean Data\n",
    "\n",
    "#### Check for missing values using .isnull().sum().\n",
    "\n",
    "#### Handle missing ages by filling or dropping.\n",
    "\n",
    "#### Inspect categorical columns (Sex, Pclass).\n",
    "\n",
    "#### Confirm Survived column is binary (0 = died, 1 = survived)."
   ]
  },
  {
   "cell_type": "code",
   "execution_count": 3,
   "id": "2d6c3382-5923-44c8-9719-f2e2ded32469",
   "metadata": {},
   "outputs": [
    {
     "data": {
      "text/html": [
       "<div>\n",
       "<style scoped>\n",
       "    .dataframe tbody tr th:only-of-type {\n",
       "        vertical-align: middle;\n",
       "    }\n",
       "\n",
       "    .dataframe tbody tr th {\n",
       "        vertical-align: top;\n",
       "    }\n",
       "\n",
       "    .dataframe thead th {\n",
       "        text-align: right;\n",
       "    }\n",
       "</style>\n",
       "<table border=\"1\" class=\"dataframe\">\n",
       "  <thead>\n",
       "    <tr style=\"text-align: right;\">\n",
       "      <th></th>\n",
       "      <th>PassengerId</th>\n",
       "      <th>Survived</th>\n",
       "      <th>Pclass</th>\n",
       "      <th>Name</th>\n",
       "      <th>Sex</th>\n",
       "      <th>Age</th>\n",
       "      <th>SibSp</th>\n",
       "      <th>Parch</th>\n",
       "      <th>Ticket</th>\n",
       "      <th>Fare</th>\n",
       "      <th>Cabin</th>\n",
       "      <th>Embarked</th>\n",
       "    </tr>\n",
       "  </thead>\n",
       "  <tbody>\n",
       "    <tr>\n",
       "      <th>0</th>\n",
       "      <td>1</td>\n",
       "      <td>0</td>\n",
       "      <td>3</td>\n",
       "      <td>Braund, Mr. Owen Harris</td>\n",
       "      <td>male</td>\n",
       "      <td>22.0</td>\n",
       "      <td>1</td>\n",
       "      <td>0</td>\n",
       "      <td>A/5 21171</td>\n",
       "      <td>7.2500</td>\n",
       "      <td>NaN</td>\n",
       "      <td>S</td>\n",
       "    </tr>\n",
       "    <tr>\n",
       "      <th>1</th>\n",
       "      <td>2</td>\n",
       "      <td>1</td>\n",
       "      <td>1</td>\n",
       "      <td>Cumings, Mrs. John Bradley (Florence Briggs Th...</td>\n",
       "      <td>female</td>\n",
       "      <td>38.0</td>\n",
       "      <td>1</td>\n",
       "      <td>0</td>\n",
       "      <td>PC 17599</td>\n",
       "      <td>71.2833</td>\n",
       "      <td>C85</td>\n",
       "      <td>C</td>\n",
       "    </tr>\n",
       "    <tr>\n",
       "      <th>2</th>\n",
       "      <td>3</td>\n",
       "      <td>1</td>\n",
       "      <td>3</td>\n",
       "      <td>Heikkinen, Miss. Laina</td>\n",
       "      <td>female</td>\n",
       "      <td>26.0</td>\n",
       "      <td>0</td>\n",
       "      <td>0</td>\n",
       "      <td>STON/O2. 3101282</td>\n",
       "      <td>7.9250</td>\n",
       "      <td>C85</td>\n",
       "      <td>S</td>\n",
       "    </tr>\n",
       "    <tr>\n",
       "      <th>3</th>\n",
       "      <td>4</td>\n",
       "      <td>1</td>\n",
       "      <td>1</td>\n",
       "      <td>Futrelle, Mrs. Jacques Heath (Lily May Peel)</td>\n",
       "      <td>female</td>\n",
       "      <td>35.0</td>\n",
       "      <td>1</td>\n",
       "      <td>0</td>\n",
       "      <td>113803</td>\n",
       "      <td>53.1000</td>\n",
       "      <td>C123</td>\n",
       "      <td>S</td>\n",
       "    </tr>\n",
       "    <tr>\n",
       "      <th>4</th>\n",
       "      <td>5</td>\n",
       "      <td>0</td>\n",
       "      <td>3</td>\n",
       "      <td>Allen, Mr. William Henry</td>\n",
       "      <td>male</td>\n",
       "      <td>35.0</td>\n",
       "      <td>0</td>\n",
       "      <td>0</td>\n",
       "      <td>373450</td>\n",
       "      <td>8.0500</td>\n",
       "      <td>C123</td>\n",
       "      <td>S</td>\n",
       "    </tr>\n",
       "    <tr>\n",
       "      <th>...</th>\n",
       "      <td>...</td>\n",
       "      <td>...</td>\n",
       "      <td>...</td>\n",
       "      <td>...</td>\n",
       "      <td>...</td>\n",
       "      <td>...</td>\n",
       "      <td>...</td>\n",
       "      <td>...</td>\n",
       "      <td>...</td>\n",
       "      <td>...</td>\n",
       "      <td>...</td>\n",
       "      <td>...</td>\n",
       "    </tr>\n",
       "    <tr>\n",
       "      <th>886</th>\n",
       "      <td>887</td>\n",
       "      <td>0</td>\n",
       "      <td>2</td>\n",
       "      <td>Montvila, Rev. Juozas</td>\n",
       "      <td>male</td>\n",
       "      <td>27.0</td>\n",
       "      <td>0</td>\n",
       "      <td>0</td>\n",
       "      <td>211536</td>\n",
       "      <td>13.0000</td>\n",
       "      <td>C50</td>\n",
       "      <td>S</td>\n",
       "    </tr>\n",
       "    <tr>\n",
       "      <th>887</th>\n",
       "      <td>888</td>\n",
       "      <td>1</td>\n",
       "      <td>1</td>\n",
       "      <td>Graham, Miss. Margaret Edith</td>\n",
       "      <td>female</td>\n",
       "      <td>19.0</td>\n",
       "      <td>0</td>\n",
       "      <td>0</td>\n",
       "      <td>112053</td>\n",
       "      <td>30.0000</td>\n",
       "      <td>B42</td>\n",
       "      <td>S</td>\n",
       "    </tr>\n",
       "    <tr>\n",
       "      <th>888</th>\n",
       "      <td>889</td>\n",
       "      <td>0</td>\n",
       "      <td>3</td>\n",
       "      <td>Johnston, Miss. Catherine Helen \"Carrie\"</td>\n",
       "      <td>female</td>\n",
       "      <td>19.0</td>\n",
       "      <td>1</td>\n",
       "      <td>2</td>\n",
       "      <td>W./C. 6607</td>\n",
       "      <td>23.4500</td>\n",
       "      <td>B42</td>\n",
       "      <td>S</td>\n",
       "    </tr>\n",
       "    <tr>\n",
       "      <th>889</th>\n",
       "      <td>890</td>\n",
       "      <td>1</td>\n",
       "      <td>1</td>\n",
       "      <td>Behr, Mr. Karl Howell</td>\n",
       "      <td>male</td>\n",
       "      <td>26.0</td>\n",
       "      <td>0</td>\n",
       "      <td>0</td>\n",
       "      <td>111369</td>\n",
       "      <td>30.0000</td>\n",
       "      <td>C148</td>\n",
       "      <td>C</td>\n",
       "    </tr>\n",
       "    <tr>\n",
       "      <th>890</th>\n",
       "      <td>891</td>\n",
       "      <td>0</td>\n",
       "      <td>3</td>\n",
       "      <td>Dooley, Mr. Patrick</td>\n",
       "      <td>male</td>\n",
       "      <td>32.0</td>\n",
       "      <td>0</td>\n",
       "      <td>0</td>\n",
       "      <td>370376</td>\n",
       "      <td>7.7500</td>\n",
       "      <td>C148</td>\n",
       "      <td>Q</td>\n",
       "    </tr>\n",
       "  </tbody>\n",
       "</table>\n",
       "<p>891 rows × 12 columns</p>\n",
       "</div>"
      ],
      "text/plain": [
       "     PassengerId  Survived  Pclass  \\\n",
       "0              1         0       3   \n",
       "1              2         1       1   \n",
       "2              3         1       3   \n",
       "3              4         1       1   \n",
       "4              5         0       3   \n",
       "..           ...       ...     ...   \n",
       "886          887         0       2   \n",
       "887          888         1       1   \n",
       "888          889         0       3   \n",
       "889          890         1       1   \n",
       "890          891         0       3   \n",
       "\n",
       "                                                  Name     Sex   Age  SibSp  \\\n",
       "0                              Braund, Mr. Owen Harris    male  22.0      1   \n",
       "1    Cumings, Mrs. John Bradley (Florence Briggs Th...  female  38.0      1   \n",
       "2                               Heikkinen, Miss. Laina  female  26.0      0   \n",
       "3         Futrelle, Mrs. Jacques Heath (Lily May Peel)  female  35.0      1   \n",
       "4                             Allen, Mr. William Henry    male  35.0      0   \n",
       "..                                                 ...     ...   ...    ...   \n",
       "886                              Montvila, Rev. Juozas    male  27.0      0   \n",
       "887                       Graham, Miss. Margaret Edith  female  19.0      0   \n",
       "888           Johnston, Miss. Catherine Helen \"Carrie\"  female  19.0      1   \n",
       "889                              Behr, Mr. Karl Howell    male  26.0      0   \n",
       "890                                Dooley, Mr. Patrick    male  32.0      0   \n",
       "\n",
       "     Parch            Ticket     Fare Cabin Embarked  \n",
       "0        0         A/5 21171   7.2500   NaN        S  \n",
       "1        0          PC 17599  71.2833   C85        C  \n",
       "2        0  STON/O2. 3101282   7.9250   C85        S  \n",
       "3        0            113803  53.1000  C123        S  \n",
       "4        0            373450   8.0500  C123        S  \n",
       "..     ...               ...      ...   ...      ...  \n",
       "886      0            211536  13.0000   C50        S  \n",
       "887      0            112053  30.0000   B42        S  \n",
       "888      2        W./C. 6607  23.4500   B42        S  \n",
       "889      0            111369  30.0000  C148        C  \n",
       "890      0            370376   7.7500  C148        Q  \n",
       "\n",
       "[891 rows x 12 columns]"
      ]
     },
     "execution_count": 3,
     "metadata": {},
     "output_type": "execute_result"
    }
   ],
   "source": [
    "df.ffill()"
   ]
  },
  {
   "cell_type": "code",
   "execution_count": 4,
   "id": "3ef6a44d-7b23-4111-af07-72fb10ce1f44",
   "metadata": {},
   "outputs": [
    {
     "data": {
      "text/plain": [
       "PassengerId      0\n",
       "Survived         0\n",
       "Pclass           0\n",
       "Name             0\n",
       "Sex              0\n",
       "Age            177\n",
       "SibSp            0\n",
       "Parch            0\n",
       "Ticket           0\n",
       "Fare             0\n",
       "Cabin          687\n",
       "Embarked         2\n",
       "dtype: int64"
      ]
     },
     "execution_count": 4,
     "metadata": {},
     "output_type": "execute_result"
    }
   ],
   "source": [
    "df.isnull().sum()"
   ]
  },
  {
   "cell_type": "code",
   "execution_count": 5,
   "id": "4ad6cd87-121b-42c5-ae7b-3c4a03666be1",
   "metadata": {},
   "outputs": [
    {
     "data": {
      "text/plain": [
       "Index(['PassengerId', 'Survived', 'Pclass', 'Name', 'Sex', 'Age', 'SibSp',\n",
       "       'Parch', 'Ticket', 'Fare', 'Cabin', 'Embarked'],\n",
       "      dtype='object')"
      ]
     },
     "execution_count": 5,
     "metadata": {},
     "output_type": "execute_result"
    }
   ],
   "source": [
    "df.columns"
   ]
  },
  {
   "cell_type": "markdown",
   "id": "8bc68184-f605-4e9a-8b25-0ad66c61fd0e",
   "metadata": {},
   "source": [
    "### 🔹 Step 3: Analysis Questions\n",
    "#### 3.1 Did gender affect survival chances?\n",
    "\n",
    "#### We calculate survival rate by gender."
   ]
  },
  {
   "cell_type": "code",
   "execution_count": 6,
   "id": "1b602974-3741-4cf9-b945-b7bdcdcbdf24",
   "metadata": {},
   "outputs": [
    {
     "name": "stdout",
     "output_type": "stream",
     "text": [
      "Sex\n",
      "female    74.203822\n",
      "male      18.890815\n",
      "Name: Survived, dtype: float64\n"
     ]
    }
   ],
   "source": [
    "survival_by_gender = df.groupby(\"Sex\")[\"Survived\"].mean() * 100\n",
    "print(survival_by_gender)"
   ]
  },
  {
   "cell_type": "markdown",
   "id": "bb8a30f0-7f6d-4cc6-8da9-dc4bd9f56535",
   "metadata": {},
   "source": [
    "#### 📌 Insight: Females had a much higher survival rate (74%) compared to males (19%)."
   ]
  },
  {
   "cell_type": "markdown",
   "id": "3d33d270-52b7-41b0-ab64-f312aa5b9dbd",
   "metadata": {},
   "source": [
    "#### 3.2 Did passenger class affect survival chances?\n",
    "\n",
    "#### We calculate survival rate by class."
   ]
  },
  {
   "cell_type": "code",
   "execution_count": 7,
   "id": "fcb7af0d-1c7c-45da-813c-d70cfe443b23",
   "metadata": {},
   "outputs": [],
   "source": [
    "survival_by_class = df.groupby(\"Pclass\")[\"Survived\"].mean()*100"
   ]
  },
  {
   "cell_type": "code",
   "execution_count": 8,
   "id": "657af580-15b3-465f-a615-932410e65909",
   "metadata": {},
   "outputs": [
    {
     "name": "stdout",
     "output_type": "stream",
     "text": [
      "Pclass\n",
      "1    62.962963\n",
      "2    47.282609\n",
      "3    24.236253\n",
      "Name: Survived, dtype: float64\n"
     ]
    }
   ],
   "source": [
    "print(survival_by_class)"
   ]
  },
  {
   "cell_type": "markdown",
   "id": "4c33d4e0-cb35-4b93-b8ea-5520894050d9",
   "metadata": {},
   "source": [
    "### 📌 Insight:\n",
    "\n",
    "#### 1st Class: ~63% survived\n",
    "\n",
    "#### 2nd Class: ~47% survived\n",
    "\n",
    "#### 3rd Class: ~24% survived"
   ]
  },
  {
   "cell_type": "markdown",
   "id": "7bd90230-e6cc-404f-beda-89965c69737d",
   "metadata": {},
   "source": [
    "### 3.3 Did age affect survival chances?\n",
    "\n",
    "#### We group passengers into age categories and check survival"
   ]
  },
  {
   "cell_type": "code",
   "execution_count": 9,
   "id": "451be7ed-395b-46e5-8498-0582f999def0",
   "metadata": {},
   "outputs": [],
   "source": [
    "bins = [0, 12, 18, 30, 50, 80]\n",
    "labels = [\"Child (0-12)\", \"Teen (13-18)\", \"Young Adult (19-30)\", \"Adult (31-50)\", \"Senior (51+)\"]\n",
    "\n",
    "df[\"Agegroup\"] = pd.cut(df[\"Age\"] , bins = bins , labels = labels , right = True)\n",
    "\n",
    "survived_by_age = df.groupby(\"Agegroup\" , observed=True)[\"Survived\"].mean() * 100"
   ]
  },
  {
   "cell_type": "code",
   "execution_count": 10,
   "id": "44cbe78c-09e4-4f68-97a6-67252e697111",
   "metadata": {},
   "outputs": [
    {
     "data": {
      "text/plain": [
       "Agegroup\n",
       "Child (0-12)           57.971014\n",
       "Teen (13-18)           42.857143\n",
       "Young Adult (19-30)    35.555556\n",
       "Adult (31-50)          42.323651\n",
       "Senior (51+)           34.375000\n",
       "Name: Survived, dtype: float64"
      ]
     },
     "execution_count": 10,
     "metadata": {},
     "output_type": "execute_result"
    }
   ],
   "source": [
    "survived_by_age"
   ]
  },
  {
   "cell_type": "markdown",
   "id": "04c3eb09-08be-44bc-9e6f-355934fffea7",
   "metadata": {},
   "source": [
    "### 📌 Insight:\n",
    "\n",
    "#### Children (0–12) had higher survival rates.\n",
    "\n",
    "#### Seniors (51+) had the lowest survival"
   ]
  },
  {
   "cell_type": "markdown",
   "id": "cfadd229-fe1c-4721-9049-1cc085d4d0df",
   "metadata": {},
   "source": [
    "### 🔹 Step 4: Visualizations\n",
    "#### 4.1 Bar chart – Survival by Gender"
   ]
  },
  {
   "cell_type": "code",
   "execution_count": 11,
   "id": "c6ca4e9c-ee13-4d1c-83c0-da132f37039d",
   "metadata": {},
   "outputs": [],
   "source": [
    "import matplotlib.pyplot as plt\n",
    "import seaborn as sns\n",
    "import matplotlib.ticker as mtick"
   ]
  },
  {
   "cell_type": "code",
   "execution_count": 12,
   "id": "ba0cf59a-63b8-4b20-b9eb-c6076602cf58",
   "metadata": {},
   "outputs": [
    {
     "data": {
      "image/png": "[encoded data removed]",
      "text/plain": [
       "<Figure size 600x400 with 1 Axes>"
      ]
     },
     "metadata": {},
     "output_type": "display_data"
    }
   ],
   "source": [
    "plt.figure(figsize=(6,4))\n",
    "sns.barplot(x=\"Sex\", y=\"Survived\", data=df , errorbar=None )\n",
    "plt.gca().yaxis.set_major_formatter(mtick.PercentFormatter(1.0))\n",
    "plt.title(\"Survival Rate by Gender\")\n",
    "plt.ylabel(\"Survival Rate\")\n",
    "plt.xlabel(\"Gender\")\n",
    "plt.grid()\n",
    "plt.show()"
   ]
  },
  {
   "cell_type": "markdown",
   "id": "83a4af43-bf3e-4108-ac65-d8db5c4797d5",
   "metadata": {},
   "source": [
    "### Visualization Insight:\n",
    "\n",
    "#### Females had a much higher survival rate than males.\n",
    "\n",
    "#### This reflects the \"Women and Children First\" policy followed during evacuation."
   ]
  },
  {
   "cell_type": "markdown",
   "id": "702bb33a-29df-4d3e-bd3b-fe893eea7507",
   "metadata": {},
   "source": [
    "#### 4.2 Bar chart – Survival by Class"
   ]
  },
  {
   "cell_type": "code",
   "execution_count": 13,
   "id": "b00afeeb-1a22-4741-924c-7ccf3464a36f",
   "metadata": {},
   "outputs": [
    {
     "data": {
      "image/png": "[encoded data removed]",
      "text/plain": [
       "<Figure size 600x400 with 1 Axes>"
      ]
     },
     "metadata": {},
     "output_type": "display_data"
    }
   ],
   "source": [
    "plt.figure(figsize=(6,4))\n",
    "sns.barplot(x=\"Pclass\", y=\"Survived\", data=df , errorbar=None )\n",
    "plt.gca().yaxis.set_major_formatter(mtick.PercentFormatter(1.0))\n",
    "plt.title(\"Survival Rate by Class\")\n",
    "plt.ylabel(\"Survival Rate\")\n",
    "plt.xlabel(\"Gender\")\n",
    "plt.grid()\n",
    "plt.show()"
   ]
  },
  {
   "cell_type": "markdown",
   "id": "2038cd02-c1f8-4af8-bea6-0b803feded3f",
   "metadata": {},
   "source": [
    "### Visualization Insight:\n",
    "\n",
    "#### 1st class passengers had the highest survival chances.\n",
    "\n",
    "#### 3rd class passengers had the lowest survival chances.\n",
    "\n",
    "#### This shows that socio-economic status strongly influenced survival."
   ]
  },
  {
   "cell_type": "markdown",
   "id": "c6fb3282-1131-455a-b59e-5f9b515e03a9",
   "metadata": {},
   "source": [
    "#### 4.3 Histogram – Age Distribution"
   ]
  },
  {
   "cell_type": "code",
   "execution_count": 14,
   "id": "efea7a15-b6bd-4f9e-9824-60ed6933083e",
   "metadata": {},
   "outputs": [
    {
     "data": {
      "image/png": "[encoded data removed]",
      "text/plain": [
       "<Figure size 800x500 with 1 Axes>"
      ]
     },
     "metadata": {},
     "output_type": "display_data"
    }
   ],
   "source": [
    "plt.figure(figsize=(8,5))\n",
    "sns.histplot(df[\"Age\"], bins=30)\n",
    "plt.title(\"Distribution of Passenger Ages\")\n",
    "plt.xlabel(\"Age Group\")\n",
    "plt.ylabel(\"Count\")\n",
    "plt.grid()\n",
    "plt.show()"
   ]
  },
  {
   "cell_type": "markdown",
   "id": "3969ca44-19e8-4f52-800a-930f5bf504f1",
   "metadata": {},
   "source": [
    "### Visualization Insight:\n",
    "\n",
    "#### Most passengers were between 20–40 years old.\n",
    "\n",
    "#### There were also a significant number of children on board."
   ]
  },
  {
   "cell_type": "markdown",
   "id": "65c69113-c73b-44a9-a7ba-b4ff36cdc354",
   "metadata": {},
   "source": [
    "### 📌 Final Conclusion\n",
    "\n",
    "#### From this analysis of the Titanic dataset:\n",
    "\n",
    "#### Gender mattered: Women had a much higher survival rate than men.\n",
    "\n",
    "#### Passenger Class mattered: First-class passengers survived more than third-class passengers.\n",
    "\n",
    "#### Age mattered: Children had the highest survival rate, while seniors had the lowest.\n",
    "\n",
    "#### 👉 Overall, women, children, and first-class passengers had the best chances of survival."
   ]
  }
 ],
 "metadata": {
  "kernelspec": {
   "display_name": "Python 3 (conda base)",
   "language": "python",
   "name": "base"
  },
  "language_info": {
   "codemirror_mode": {
    "name": "ipython",
    "version": 3
   },
   "file_extension": ".py",
   "mimetype": "text/x-python",
   "name": "python",
   "nbconvert_exporter": "python",
   "pygments_lexer": "ipython3",
   "version": "3.13.5"
  }
 },
 "nbformat": 4,
 "nbformat_minor": 5
}
